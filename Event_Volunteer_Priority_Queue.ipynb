{
 "cells": [
  {
   "cell_type": "markdown",
   "id": "bddc89ab-2dd5-4ff1-be0c-7a4d86064b00",
   "metadata": {},
   "source": [
    "# Event Volunteer Assignment System\n",
    "\n",
    "This notebook implements a Priority Queue using a Binary Heap (Max-Heap) to manage volunteer assignments for an event. Volunteers are prioritized based on a combination of their experience (years) and availability (score), with user input for volunteer details.\n",
    "\n",
    "## Features\n",
    "- **Volunteer Class**: Represents a volunteer with name, experience, and availability.\n",
    "- **PriorityQueue Class**: Implements a max-heap for prioritizing volunteers.\n",
    "- **Priority Calculation**: 60% weight on experience + 40% weight on availability.\n",
    "- **Input Functionality**: Users can input volunteer details interactively.\n",
    "- **Operations**: Enqueue, dequeue, peek, and display queue.\n",
    "\n",
    "## Setup\n",
    "No external libraries required. Uses Python's standard library. Run in Jupyter Notebook."
   ]
  },
  {
   "cell_type": "code",
   "execution_count": 1,
   "id": "4a20f35e-ce4d-4d8e-ac9b-6107ed01c5ca",
   "metadata": {},
   "outputs": [],
   "source": [
    "# Volunteer Class to represent event volunteers\n",
    "class Volunteer:\n",
    "    def __init__(self, name, experience_years, availability_score):\n",
    "        self.name = name\n",
    "        self.experience_years = experience_years\n",
    "        self.availability_score = availability_score\n",
    "        # Priority: 60% experience + 40% availability\n",
    "        self.priority = experience_years * 0.6 + availability_score * 0.4\n",
    "\n",
    "    def __lt__(self, other):\n",
    "        return self.priority < other.priority\n",
    "\n",
    "    def __str__(self):\n",
    "        return f\"{self.name} (Exp: {self.experience_years}, Avail: {self.availability_score}, Priority: {self.priority:.2f})\""
   ]
  },
  {
   "cell_type": "markdown",
   "id": "e3970cd9-53f0-4362-bdc0-d42aa3cc0186",
   "metadata": {},
   "source": [
    "## Volunteer Class Explanation\n",
    "- **Attributes**:\n",
    "  - `name`: Volunteer's name.\n",
    "  - `experience_years`: Years of volunteering experience.\n",
    "  - `availability_score`: Availability score (1-10).\n",
    "  - `priority`: Computed as `0.6 * experience_years + 0.4 * availability_score`.\n",
    "- **Methods**:\n",
    "  - `__lt__`: Enables comparison for heap ordering.\n",
    "  - `__str__`: Provides readable string representation."
   ]
  },
  {
   "cell_type": "code",
   "execution_count": 2,
   "id": "a4f74740-5430-4e9d-871e-89ce5a146351",
   "metadata": {},
   "outputs": [],
   "source": [
    "# Priority Queue Class using a Max-Heap\n",
    "class PriorityQueue:\n",
    "    def __init__(self):\n",
    "        # Initialize heap with None at index 0\n",
    "        self.heap = [None]\n",
    "        self.size = 0\n",
    "\n",
    "    def parent(self, index):\n",
    "        return index // 2\n",
    "\n",
    "    def left_child(self, index):\n",
    "        return 2 * index\n",
    "\n",
    "    def right_child(self, index):\n",
    "        return 2 * index + 1\n",
    "\n",
    "    def swap(self, i, j):\n",
    "        self.heap[i], self.heap[j] = self.heap[j], self.heap[i]\n",
    "\n",
    "    def heapify_up(self, index):\n",
    "        parent = self.parent(index)\n",
    "        if parent >= 1 and self.heap[index] > self.heap[parent]:\n",
    "            self.swap(index, parent)\n",
    "            self.heapify_up(parent)\n",
    "\n",
    "    def heapify_down(self, index):\n",
    "        largest = index\n",
    "        left = self.left_child(index)\n",
    "        right = self.right_child(index)\n",
    "\n",
    "        if left <= self.size and self.heap[left] > self.heap[largest]:\n",
    "            largest = left\n",
    "\n",
    "        if right <= self.size and self.heap[right] > self.heap[largest]:\n",
    "            largest = right\n",
    "\n",
    "        if largest != index:\n",
    "            self.swap(index, largest)\n",
    "            self.heapify_down(largest)\n",
    "\n",
    "    def enqueue(self, volunteer):\n",
    "        self.heap.append(volunteer)\n",
    "        self.size += 1\n",
    "        self.heapify_up(self.size)\n",
    "\n",
    "    def dequeue(self):\n",
    "        if self.size == 0:\n",
    "            raise IndexError(\"Priority queue is empty\")\n",
    "        max_volunteer = self.heap[1]\n",
    "        self.heap[1] = self.heap[self.size]\n",
    "        self.heap.pop()\n",
    "        self.size -= 1\n",
    "        if self.size > 1:\n",
    "            self.heapify_down(1)\n",
    "        return max_volunteer\n",
    "\n",
    "    def peek(self):\n",
    "        if self.size == 0:\n",
    "            raise IndexError(\"Priority queue is empty\")\n",
    "        return self.heap[1]\n",
    "\n",
    "    def is_empty(self):\n",
    "        return self.size == 0\n",
    "\n",
    "    def __str__(self):\n",
    "        return str([str(volunteer) for volunteer in self.heap[1:self.size + 1]])"
   ]
  },
  {
   "cell_type": "markdown",
   "id": "55eb5516-e0b8-4bc6-b16e-4fcb6eb97a94",
   "metadata": {},
   "source": [
    "## PriorityQueue Class Explanation\n",
    "- **Structure**: Uses a list-based max-heap (index 0 is None for 1-based indexing).\n",
    "- **Key Operations**:\n",
    "  - `enqueue`: Adds a volunteer and maintains heap property (O(log n)).\n",
    "  - `dequeue`: Removes and returns the highest-priority volunteer (O(log n)).\n",
    "  - `peek`: Views the highest-priority volunteer (O(1)).\n",
    "  - `heapify_up` and `heapify_down`: Maintain heap property.\n",
    "- **Usage**: Volunteers with higher priority are dequeued first."
   ]
  },
  {
   "cell_type": "code",
   "execution_count": 3,
   "id": "813c20f8-28ee-491b-8f2e-b2a8232eb68c",
   "metadata": {},
   "outputs": [
    {
     "name": "stdout",
     "output_type": "stream",
     "text": [
      "Enter volunteer details (enter empty name to stop):\n"
     ]
    },
    {
     "name": "stdin",
     "output_type": "stream",
     "text": [
      "Volunteer name:  Nokesh\n",
      "Experience years (e.g., 5):  3\n",
      "Availability score (1-10):  6\n"
     ]
    },
    {
     "name": "stdout",
     "output_type": "stream",
     "text": [
      "Added Nokesh (Exp: 3.0, Avail: 6.0, Priority: 4.20)\n"
     ]
    },
    {
     "name": "stdin",
     "output_type": "stream",
     "text": [
      "Volunteer name:  Vishnu\n",
      "Experience years (e.g., 5):  6\n",
      "Availability score (1-10):  8\n"
     ]
    },
    {
     "name": "stdout",
     "output_type": "stream",
     "text": [
      "Added Vishnu (Exp: 6.0, Avail: 8.0, Priority: 6.80)\n"
     ]
    },
    {
     "name": "stdin",
     "output_type": "stream",
     "text": [
      "Volunteer name:  Sagar\n",
      "Experience years (e.g., 5):  2\n",
      "Availability score (1-10):  3\n"
     ]
    },
    {
     "name": "stdout",
     "output_type": "stream",
     "text": [
      "Added Sagar (Exp: 2.0, Avail: 3.0, Priority: 2.40)\n"
     ]
    },
    {
     "name": "stdin",
     "output_type": "stream",
     "text": [
      "Volunteer name:  staish\n",
      "Experience years (e.g., 5):  9\n",
      "Availability score (1-10):  8\n"
     ]
    },
    {
     "name": "stdout",
     "output_type": "stream",
     "text": [
      "Added staish (Exp: 9.0, Avail: 8.0, Priority: 8.60)\n"
     ]
    },
    {
     "name": "stdin",
     "output_type": "stream",
     "text": [
      "Volunteer name:  Ravi\n",
      "Experience years (e.g., 5):  9\n",
      "Availability score (1-10):  9\n"
     ]
    },
    {
     "name": "stdout",
     "output_type": "stream",
     "text": [
      "Added Ravi (Exp: 9.0, Avail: 9.0, Priority: 9.00)\n"
     ]
    },
    {
     "name": "stdin",
     "output_type": "stream",
     "text": [
      "Volunteer name:  Ramu\n",
      "Experience years (e.g., 5):  1\n",
      "Availability score (1-10):  2\n"
     ]
    },
    {
     "name": "stdout",
     "output_type": "stream",
     "text": [
      "Added Ramu (Exp: 1.0, Avail: 2.0, Priority: 1.40)\n"
     ]
    },
    {
     "name": "stdin",
     "output_type": "stream",
     "text": [
      "Volunteer name:  \n"
     ]
    },
    {
     "name": "stdout",
     "output_type": "stream",
     "text": [
      "\n",
      "Current priority queue: ['Ravi (Exp: 9.0, Avail: 9.0, Priority: 9.00)', 'staish (Exp: 9.0, Avail: 8.0, Priority: 8.60)', 'Sagar (Exp: 2.0, Avail: 3.0, Priority: 2.40)', 'Nokesh (Exp: 3.0, Avail: 6.0, Priority: 4.20)', 'Vishnu (Exp: 6.0, Avail: 8.0, Priority: 6.80)', 'Ramu (Exp: 1.0, Avail: 2.0, Priority: 1.40)']\n",
      "\n",
      "Assigning volunteers in order of priority:\n",
      "Assigned: Ravi (Exp: 9.0, Avail: 9.0, Priority: 9.00)\n",
      "Assigned: staish (Exp: 9.0, Avail: 8.0, Priority: 8.60)\n",
      "Assigned: Vishnu (Exp: 6.0, Avail: 8.0, Priority: 6.80)\n",
      "Assigned: Nokesh (Exp: 3.0, Avail: 6.0, Priority: 4.20)\n",
      "Assigned: Sagar (Exp: 2.0, Avail: 3.0, Priority: 2.40)\n",
      "Assigned: Ramu (Exp: 1.0, Avail: 2.0, Priority: 1.40)\n"
     ]
    }
   ],
   "source": [
    "# Testing the Priority Queue with User Input\n",
    "def main():\n",
    "    # Create priority queue\n",
    "    pq = PriorityQueue()\n",
    "    \n",
    "    print(\"Enter volunteer details (enter empty name to stop):\")\n",
    "    while True:\n",
    "        # Get volunteer name\n",
    "        name = input(\"Volunteer name: \").strip()\n",
    "        if not name:\n",
    "            break\n",
    "            \n",
    "        # Get experience years with validation\n",
    "        while True:\n",
    "            try:\n",
    "                experience = float(input(\"Experience years (e.g., 5): \"))\n",
    "                if experience < 0:\n",
    "                    print(\"Experience cannot be negative.\")\n",
    "                    continue\n",
    "                break\n",
    "            except ValueError:\n",
    "                print(\"Please enter a valid number for experience.\")\n",
    "                \n",
    "        # Get availability score with validation\n",
    "        while True:\n",
    "            try:\n",
    "                availability = float(input(\"Availability score (1-10): \"))\n",
    "                if not 1 <= availability <= 10:\n",
    "                    print(\"Availability score must be between 1 and 10.\")\n",
    "                    continue\n",
    "                break\n",
    "            except ValueError:\n",
    "                print(\"Please enter a valid number for availability.\")\n",
    "        \n",
    "        # Create and enqueue volunteer\n",
    "        volunteer = Volunteer(name, experience, availability)\n",
    "        pq.enqueue(volunteer)\n",
    "        print(f\"Added {volunteer}\")\n",
    "    \n",
    "    if pq.is_empty():\n",
    "        print(\"\\nNo volunteers added.\")\n",
    "        return\n",
    "    \n",
    "    print(\"\\nCurrent priority queue:\", pq)\n",
    "\n",
    "    # Assign volunteers (dequeue)\n",
    "    print(\"\\nAssigning volunteers in order of priority:\")\n",
    "    while not pq.is_empty():\n",
    "        assigned = pq.dequeue()\n",
    "        print(f\"Assigned: {assigned}\")\n",
    "\n",
    "# Run the main function\n",
    "main()"
   ]
  },
  {
   "cell_type": "markdown",
   "id": "0bd4a9fa-9134-4f3f-b3a2-8b94d1a6c35c",
   "metadata": {},
   "source": [
    "## Input and Output Explanation\n",
    "\n",
    "### Input Process\n",
    "- **Volunteer Name**: Enter the volunteer's name. Press Enter without a name to stop.\n",
    "- **Experience Years**: Enter a non-negative number (e.g., 5 or 3.5).\n",
    "- **Availability Score**: Enter a number between 1 and 10.\n",
    "- **Validation**:\n",
    "  - Ensures experience is non-negative.\n",
    "  - Ensures availability is between 1 and 10.\n",
    "  - Handles invalid inputs (e.g., non-numeric values) with error messages.\n",
    "\n",
    "### Expected Output\n",
    "The program will:\n",
    "1. Prompt for volunteer details until an empty name is entered.\n",
    "2. Display each added volunteer with their priority.\n",
    "3. Show the current priority queue.\n",
    "4. Assign (dequeue) volunteers in order of priority.\n",
    "\n",
    "**Sample Interaction**:"
   ]
  },
  {
   "cell_type": "code",
   "execution_count": null,
   "id": "ee64bb0f-8cac-4041-8c4b-cd54b09fecc4",
   "metadata": {},
   "outputs": [],
   "source": []
  }
 ],
 "metadata": {
  "kernelspec": {
   "display_name": "Python 3 (ipykernel)",
   "language": "python",
   "name": "python3"
  },
  "language_info": {
   "codemirror_mode": {
    "name": "ipython",
    "version": 3
   },
   "file_extension": ".py",
   "mimetype": "text/x-python",
   "name": "python",
   "nbconvert_exporter": "python",
   "pygments_lexer": "ipython3",
   "version": "3.12.7"
  }
 },
 "nbformat": 4,
 "nbformat_minor": 5
}
